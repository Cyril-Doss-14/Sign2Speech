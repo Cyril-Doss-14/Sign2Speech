{
 "cells": [
  {
   "cell_type": "code",
   "execution_count": null,
   "id": "89847280",
   "metadata": {},
   "outputs": [],
   "source": [
    "#data preprocessing\n",
    "\n",
    "import os\n",
    "import cv2\n",
    "import mediapipe as mp\n",
    "import numpy as np\n",
    "\n",
    "mp_drawing = mp.solutions.drawing_utils\n",
    "mp_hands = mp.solutions.hands\n",
    "\n",
    "data_dir = 'data'  # Directory containing captured images\n",
    "processed_dir = 'processed_data'  # Directory to save processed images\n",
    "\n",
    "# Create a directory for processed images if it does not exist\n",
    "os.makedirs(processed_dir, exist_ok=True)\n",
    "\n",
    "\n",
    "def process_images(src_dir, dest_dir):\n",
    "    for sign in os.listdir(src_dir):\n",
    "        sign_dir = os.path.join(src_dir, sign)\n",
    "        if os.path.isdir(sign_dir):\n",
    "            os.makedirs(os.path.join(dest_dir, sign), exist_ok=True)\n",
    "            for image_file in os.listdir(sign_dir):\n",
    "                image_path = os.path.join(sign_dir, image_file)\n",
    "                image = cv2.imread(image_path)\n",
    "                if image is not None:\n",
    "                    with mp_hands.Hands(static_image_mode=True, max_num_hands=1, min_detection_confidence=0.5) as hands:\n",
    "                        results = hands.process(cv2.cvtColor(image, cv2.COLOR_BGR2RGB))\n",
    "                        if results.multi_hand_landmarks:\n",
    "                            for hand_landmarks in results.multi_hand_landmarks:\n",
    "                                landmarks_array = np.array([[i.x, i.y, i.z] for i in hand_landmarks.landmark],\n",
    "                                                           dtype=np.float32)\n",
    "                                if landmarks_array.shape[0] >= 21:\n",
    "                                    # Convert landmark coordinates to image coordinates\n",
    "                                    landmarks_image_coords = (landmarks_array[:, :2] * np.array(\n",
    "                                        [image.shape[1], image.shape[0]])).astype(np.int32)\n",
    "\n",
    "                                    # Find min and max x, y coordinates\n",
    "                                    min_x = np.min(landmarks_image_coords[:, 0])\n",
    "                                    max_x = np.max(landmarks_image_coords[:, 0])\n",
    "                                    min_y = np.min(landmarks_image_coords[:, 1])\n",
    "                                    max_y = np.max(landmarks_image_coords[:, 1])\n",
    "\n",
    "                                    # Check if bounding box coordinates are valid\n",
    "                                    if min_x < max_x and min_y < max_y:\n",
    "                                        x, y, width, height = min_x, min_y, max_x - min_x, max_y - min_y\n",
    "                                        x, y, width, height = x - 10, y - 10, width + 20, height + 20\n",
    "                                        hand_img = image[y:y + height, x:x + width]\n",
    "                                        dest_image_path = os.path.join(dest_dir, sign, image_file)\n",
    "                                        cv2.imwrite(dest_image_path, hand_img)\n",
    "                                        print(f\"Processed: {image_file}\")\n",
    "\n",
    "\n",
    "if __name__ == \"__main__\":\n",
    "    process_images(data_dir, processed_dir)\n"
   ]
  }
 ],
 "metadata": {
  "kernelspec": {
   "display_name": "Python 3 (ipykernel)",
   "language": "python",
   "name": "python3"
  },
  "language_info": {
   "codemirror_mode": {
    "name": "ipython",
    "version": 3
   },
   "file_extension": ".py",
   "mimetype": "text/x-python",
   "name": "python",
   "nbconvert_exporter": "python",
   "pygments_lexer": "ipython3",
   "version": "3.11.3"
  }
 },
 "nbformat": 4,
 "nbformat_minor": 5
}
